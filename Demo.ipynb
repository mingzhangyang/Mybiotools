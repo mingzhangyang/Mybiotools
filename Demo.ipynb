{
 "cells": [
  {
   "cell_type": "markdown",
   "metadata": {},
   "source": [
    "# Mybiotools -- A biotools collection for bench scientists\n",
    "\n",
    "## Python scripts to make bench work easier\n",
    "\n",
    "### Author: Mingzhang Yang"
   ]
  },
  {
   "cell_type": "markdown",
   "metadata": {},
   "source": [
    "This notebook shows how you can take advantage of Mybiotools to make your life easier"
   ]
  },
  {
   "cell_type": "code",
   "execution_count": 1,
   "metadata": {
    "collapsed": false
   },
   "outputs": [],
   "source": [
    "#import Mybiotools package\n",
    "import Mybiotools as mb"
   ]
  },
  {
   "cell_type": "code",
   "execution_count": 2,
   "metadata": {
    "collapsed": false
   },
   "outputs": [
    {
     "name": "stdout",
     "output_type": "stream",
     "text": [
      "Please look up in the table below and set your gene of interest.\n",
      "      Gene ID                      Gene description  \\\n",
      "0        7157                    tumor protein p53    \n",
      "1       24842                    tumor protein p53    \n",
      "2       30590                    tumor protein p53    \n",
      "3        7158  tumor protein p53 binding protein 1    \n",
      "4      403869                    tumor protein p53    \n",
      "5      397276                    tumor protein p53    \n",
      "6      281542                    tumor protein p53    \n",
      "7      493847                    tumor protein p53    \n",
      "8   100062044                    tumor protein p53    \n",
      "9   100009292                    tumor protein p53    \n",
      "10  100682525                    tumor protein p53    \n",
      "11  100049321                    tumor protein p53    \n",
      "12     716170                    tumor protein p53    \n",
      "13  100379269                    tumor protein p53    \n",
      "14     455214                    tumor protein p53    \n",
      "15     443421                    tumor protein p53    \n",
      "16     431679                    tumor protein p53    \n",
      "17  102402069                    tumor protein p53    \n",
      "18  100583326                    tumor protein p53    \n",
      "19  100435218                    tumor protein p53    \n",
      "\n",
      "                                              Species  \n",
      "0                                Homo sapiens (human)  \n",
      "1                      Rattus norvegicus (Norway rat)  \n",
      "2                             Danio rerio (zebrafish)  \n",
      "3                                Homo sapiens (human)  \n",
      "4                        Canis lupus familiaris (dog)  \n",
      "5                                    Sus scrofa (pig)  \n",
      "6                                 Bos taurus (cattle)  \n",
      "7                          Felis catus (domestic cat)  \n",
      "8                              Equus caballus (horse)  \n",
      "9                      Oryctolagus cuniculus (rabbit)  \n",
      "10               Cricetulus griseus (Chinese hamster)  \n",
      "11                  Oryzias latipes (Japanese medaka)  \n",
      "12                     Macaca mulatta (Rhesus monkey)  \n",
      "13              Cavia porcellus (domestic guinea pig)  \n",
      "14                       Pan troglodytes (chimpanzee)  \n",
      "15                                 Ovis aries (sheep)  \n",
      "16          Xenopus tropicalis (tropical clawed frog)  \n",
      "17                    Bubalus bubalis (water buffalo)  \n",
      "18  Nomascus leucogenys (northern white-cheeked gi...  \n",
      "19                  Pongo abelii (Sumatran orangutan)  \n",
      "Please select the index number(starts from 0) of the gene of your interest:  0\n",
      "\n",
      "\n",
      "Your gene object tumor protein p53  from Homo sapiens (human) has been created successfully.\n"
     ]
    }
   ],
   "source": [
    "p53 = mb.Gene('TP53')"
   ]
  },
  {
   "cell_type": "code",
   "execution_count": 3,
   "metadata": {
    "collapsed": false
   },
   "outputs": [
    {
     "data": {
      "text/plain": [
       "'TP53'"
      ]
     },
     "execution_count": 3,
     "metadata": {},
     "output_type": "execute_result"
    }
   ],
   "source": [
    "p53.name"
   ]
  },
  {
   "cell_type": "code",
   "execution_count": 4,
   "metadata": {
    "collapsed": false
   },
   "outputs": [
    {
     "data": {
      "text/plain": [
       "'Homo sapiens (human)'"
      ]
     },
     "execution_count": 4,
     "metadata": {},
     "output_type": "execute_result"
    }
   ],
   "source": [
    "p53.Species"
   ]
  },
  {
   "cell_type": "code",
   "execution_count": 5,
   "metadata": {
    "collapsed": true
   },
   "outputs": [],
   "source": [
    "p53.mRNA"
   ]
  },
  {
   "cell_type": "code",
   "execution_count": 6,
   "metadata": {
    "collapsed": true
   },
   "outputs": [],
   "source": [
    "p53.default_mRNA"
   ]
  },
  {
   "cell_type": "code",
   "execution_count": 7,
   "metadata": {
    "collapsed": false
   },
   "outputs": [
    {
     "name": "stdout",
     "output_type": "stream",
     "text": [
      "7157\n"
     ]
    }
   ],
   "source": [
    "p53.get_Gene_ID()"
   ]
  },
  {
   "cell_type": "code",
   "execution_count": 8,
   "metadata": {
    "collapsed": false
   },
   "outputs": [
    {
     "name": "stdout",
     "output_type": "stream",
     "text": [
      "             NM_id                                  name  \\\n",
      "0      NM_000546.5  cellular tumor antigen p53 isoform a   \n",
      "1   NM_001126112.2  cellular tumor antigen p53 isoform a   \n",
      "2   NM_001126113.2  cellular tumor antigen p53 isoform c   \n",
      "3   NM_001126114.2  cellular tumor antigen p53 isoform b   \n",
      "4   NM_001126115.1  cellular tumor antigen p53 isoform d   \n",
      "5   NM_001126116.1  cellular tumor antigen p53 isoform e   \n",
      "6   NM_001126117.1  cellular tumor antigen p53 isoform f   \n",
      "7   NM_001126118.1  cellular tumor antigen p53 isoform g   \n",
      "8   NM_001276695.1  cellular tumor antigen p53 isoform h   \n",
      "9   NM_001276696.1  cellular tumor antigen p53 isoform i   \n",
      "10  NM_001276697.1  cellular tumor antigen p53 isoform j   \n",
      "11  NM_001276698.1  cellular tumor antigen p53 isoform k   \n",
      "12  NM_001276699.1  cellular tumor antigen p53 isoform l   \n",
      "13  NM_001276760.1  cellular tumor antigen p53 isoform g   \n",
      "14  NM_001276761.1  cellular tumor antigen p53 isoform g   \n",
      "\n",
      "                                          description  \n",
      "0   This variant (1) can initiate translation from...  \n",
      "1   This variant (2) uses an alternate splice site...  \n",
      "2   This variant (4) contains an additional exon i...  \n",
      "3   This variant (3) contains an additional exon i...  \n",
      "4   This variant (5) uses an alternate promoter an...  \n",
      "5   This variant (6) uses an alternate promoter an...  \n",
      "6   This variant (7) uses an alternate promoter an...  \n",
      "7   This variant (8, also known as p53I2) differs ...  \n",
      "8   This variant (4) contains an additional exon i...  \n",
      "9   This variant (3) contains an additional exon i...  \n",
      "10  This variant (5) uses an alternate promoter an...  \n",
      "11  This variant (6) uses an alternate promoter an...  \n",
      "12  This variant (7) uses an alternate promoter an...  \n",
      "13  This variant (1) can initiate translation from...  \n",
      "14  This variant (2) uses an alternate splice site...  \n"
     ]
    }
   ],
   "source": [
    "p53.get_mRNA()"
   ]
  },
  {
   "cell_type": "code",
   "execution_count": 9,
   "metadata": {
    "collapsed": false
   },
   "outputs": [
    {
     "data": {
      "text/plain": [
       "['total: 15',\n",
       " <Mybiotools.isoforms at 0x114d4cdd8>,\n",
       " <Mybiotools.isoforms at 0x114d4ce10>,\n",
       " <Mybiotools.isoforms at 0x114d4cda0>,\n",
       " <Mybiotools.isoforms at 0x114d4ce48>,\n",
       " <Mybiotools.isoforms at 0x104356400>,\n",
       " <Mybiotools.isoforms at 0x104356588>,\n",
       " <Mybiotools.isoforms at 0x1043564a8>,\n",
       " <Mybiotools.isoforms at 0x1043565c0>,\n",
       " <Mybiotools.isoforms at 0x104356550>,\n",
       " <Mybiotools.isoforms at 0x114d6beb8>,\n",
       " <Mybiotools.isoforms at 0x114d6bf98>,\n",
       " <Mybiotools.isoforms at 0x114d92f28>,\n",
       " <Mybiotools.isoforms at 0x114d92c18>,\n",
       " <Mybiotools.isoforms at 0x114d92be0>,\n",
       " <Mybiotools.isoforms at 0x114d92438>]"
      ]
     },
     "execution_count": 9,
     "metadata": {},
     "output_type": "execute_result"
    }
   ],
   "source": [
    "p53.mRNA"
   ]
  },
  {
   "cell_type": "code",
   "execution_count": 10,
   "metadata": {
    "collapsed": false
   },
   "outputs": [
    {
     "data": {
      "text/plain": [
       "<Mybiotools.isoforms at 0x114d4cdd8>"
      ]
     },
     "execution_count": 10,
     "metadata": {},
     "output_type": "execute_result"
    }
   ],
   "source": [
    "p53.mRNA[1]"
   ]
  },
  {
   "cell_type": "code",
   "execution_count": 11,
   "metadata": {
    "collapsed": false
   },
   "outputs": [
    {
     "data": {
      "text/plain": [
       "'NM_000546.5'"
      ]
     },
     "execution_count": 11,
     "metadata": {},
     "output_type": "execute_result"
    }
   ],
   "source": [
    "p53.mRNA[1].NM_id"
   ]
  },
  {
   "cell_type": "code",
   "execution_count": 12,
   "metadata": {
    "collapsed": false
   },
   "outputs": [
    {
     "data": {
      "text/plain": [
       "'cellular tumor antigen p53 isoform a'"
      ]
     },
     "execution_count": 12,
     "metadata": {},
     "output_type": "execute_result"
    }
   ],
   "source": [
    "p53.mRNA[1].name"
   ]
  },
  {
   "cell_type": "code",
   "execution_count": 13,
   "metadata": {
    "collapsed": false
   },
   "outputs": [
    {
     "data": {
      "text/plain": [
       "'This variant (1) can initiate translation from two in-frame AUG start codons. The isoform represented in this variant (a, also known as p53alpha) results from translation initiation at the upstream start codon. Both variants 1 and 2 encode isoform a, which is the longest isoform.'"
      ]
     },
     "execution_count": 13,
     "metadata": {},
     "output_type": "execute_result"
    }
   ],
   "source": [
    "p53.mRNA[1].description"
   ]
  },
  {
   "cell_type": "code",
   "execution_count": 14,
   "metadata": {
    "collapsed": false
   },
   "outputs": [
    {
     "data": {
      "text/plain": [
       "<Mybiotools.isoforms at 0x114d4cdd8>"
      ]
     },
     "execution_count": 14,
     "metadata": {},
     "output_type": "execute_result"
    }
   ],
   "source": [
    "p53.default_mRNA"
   ]
  },
  {
   "cell_type": "code",
   "execution_count": 15,
   "metadata": {
    "collapsed": false
   },
   "outputs": [
    {
     "data": {
      "text/plain": [
       "\"The default mRNA seq and CDS seq have been set as TP53's attributes.\""
      ]
     },
     "execution_count": 15,
     "metadata": {},
     "output_type": "execute_result"
    }
   ],
   "source": [
    "p53.get_mRNA_seq()"
   ]
  },
  {
   "cell_type": "code",
   "execution_count": 16,
   "metadata": {
    "collapsed": false
   },
   "outputs": [
    {
     "data": {
      "text/plain": [
       "'GATGGGATTGGGGTTTTCCCCTCCCATGTGCTCAAGACTGGCGCTAAAAGTTTTGAGCTTCTCAAAAGTCTAGAGCCACCGTCCAGGGAGCAGGTAGCTGCTGGGCTCCGGGGACACTTTGCGTTCGGGCTGGGAGCGTGCTTTCCACGACGGTGACACGCTTCCCTGGATTGGCAGCCAGACTGCCTTCCGGGTCACTGCCATGGAGGAGCCGCAGTCAGATCCTAGCGTCGAGCCCCCTCTGAGTCAGGAAACATTTTCAGACCTATGGAAACTACTTCCTGAAAACAACGTTCTGTCCCCCTTGCCGTCCCAAGCAATGGATGATTTGATGCTGTCCCCGGACGATATTGAACAATGGTTCACTGAAGACCCAGGTCCAGATGAAGCTCCCAGAATGCCAGAGGCTGCTCCCCCCGTGGCCCCTGCACCAGCAGCTCCTACACCGGCGGCCCCTGCACCAGCCCCCTCCTGGCCCCTGTCATCTTCTGTCCCTTCCCAGAAAACCTACCAGGGCAGCTACGGTTTCCGTCTGGGCTTCTTGCATTCTGGGACAGCCAAGTCTGTGACTTGCACGTACTCCCCTGCCCTCAACAAGATGTTTTGCCAACTGGCCAAGACCTGCCCTGTGCAGCTGTGGGTTGATTCCACACCCCCGCCCGGCACCCGCGTCCGCGCCATGGCCATCTACAAGCAGTCACAGCACATGACGGAGGTTGTGAGGCGCTGCCCCCACCATGAGCGCTGCTCAGATAGCGATGGTCTGGCCCCTCCTCAGCATCTTATCCGAGTGGAAGGAAATTTGCGTGTGGAGTATTTGGATGACAGAAACACTTTTCGACATAGTGTGGTGGTGCCCTATGAGCCGCCTGAGGTTGGCTCTGACTGTACCACCATCCACTACAACTACATGTGTAACAGTTCCTGCATGGGCGGCATGAACCGGAGGCCCATCCTCACCATCATCACACTGGAAGACTCCAGTGGTAATCTACTGGGACGGAACAGCTTTGAGGTGCGTGTTTGTGCCTGTCCTGGGAGAGACCGGCGCACAGAGGAAGAGAATCTCCGCAAGAAAGGGGAGCCTCACCACGAGCTGCCCCCAGGGAGCACTAAGCGAGCACTGCCCAACAACACCAGCTCCTCTCCCCAGCCAAAGAAGAAACCACTGGATGGAGAATATTTCACCCTTCAGATCCGTGGGCGTGAGCGCTTCGAGATGTTCCGAGAGCTGAATGAGGCCTTGGAACTCAAGGATGCCCAGGCTGGGAAGGAGCCAGGGGGGAGCAGGGCTCACTCCAGCCACCTGAAGTCCAAAAAGGGTCAGTCTACCTCCCGCCATAAAAAACTCATGTTCAAGACAGAAGGGCCTGACTCAGACTGACATTCTCCACTTCTTGTTCCCCACTGACAGCCTCCCACCCCCATCTCTCCCTCCCCTGCCATTTTGGGTTTTGGGTCTTTGAACCCTTGCTTGCAATAGGTGTGCGTCAGAAGCACCCAGGACTTCCATTTGCTTTGTCCCGGGGCTCCACTGAACAAGTTGGCCTGCACTGGTGTTTTGTTGTGGGGAGGAGGATGGGGAGTAGGACATACCAGCTTAGATTTTAAGGTTTTTACTGTGAGGGATGTTTGGGAGATGTAAGAAATGTTCTTGCAGTTAAGGGTTAGTTTACAATCAGCCACATTCTAGGTAGGGGCCCACTTCACCGTACTAACCAGGGAAGCTGTCCCTCACTGTTGAATTTTCTCTAACTTCAAGGCCCATATCTGTGAAATGCTGGCATTTGCACCTACCTCACAGAGTGCATTGTGAGGGTTAATGAAATAATGTACATCTGGCCTTGAAACCACCTTTTATTACATGGGGTCTAGAACTTGACCCCCTTGAGGGTGCTTGTTCCCTCTCCCTGTTGGTCGGTGGGTTGGTAGTTTCTACAGTTGGGCAGCTGGTTAGGTAGAGGGAGTTGTCAAGTCTCTGCTGGCCCAGCCAAACCCTGTCTGACAACCTCTTGGTGAACCTTAGTACCTAAAAGGAAATCTCACCCCATCCCACACCCTGGAGGATTTCATCTCTTGTATATGATGATCTGGATCCACCAAGACTTGTTTTATGCTCAGGGTCAATTTCTTTTTTCTTTTTTTTTTTTTTTTTTCTTTTTCTTTGAGACTGGGTCTCGCTTTGTTGCCCAGGCTGGAGTGGAGTGGCGTGATCTTGGCTTACTGCAGCCTTTGCCTCCCCGGCTCGAGCAGTCCTGCCTCAGCCTCCGGAGTAGCTGGGACCACAGGTTCATGCCACCATGGCCAGCCAACTTTTGCATGTTTTGTAGAGATGGGGTCTCACAGTGTTGCCCAGGCTGGTCTCAAACTCCTGGGCTCAGGCGATCCACCTGTCTCAGCCTCCCAGAGTGCTGGGATTACAATTGTGAGCCACCACGTCCAGCTGGAAGGGTCAACATCTTTTACATTCTGCAAGCACATCTGCATTTTCACCCCACCCTTCCCCTCCTTCTCCCTTTTTATATCCCATTTTTATATCGATCTCTTATTTTACAATAAAACTTTGCTGCCACCTGTGTGTCTGAGGGGTG'"
      ]
     },
     "execution_count": 16,
     "metadata": {},
     "output_type": "execute_result"
    }
   ],
   "source": [
    "p53.default_mRNA_seq"
   ]
  },
  {
   "cell_type": "code",
   "execution_count": 17,
   "metadata": {
    "collapsed": false
   },
   "outputs": [
    {
     "data": {
      "text/plain": [
       "'ATGGAGGAGCCGCAGTCAGATCCTAGCGTCGAGCCCCCTCTGAGTCAGGAAACATTTTCAGACCTATGGAAACTACTTCCTGAAAACAACGTTCTGTCCCCCTTGCCGTCCCAAGCAATGGATGATTTGATGCTGTCCCCGGACGATATTGAACAATGGTTCACTGAAGACCCAGGTCCAGATGAAGCTCCCAGAATGCCAGAGGCTGCTCCCCCCGTGGCCCCTGCACCAGCAGCTCCTACACCGGCGGCCCCTGCACCAGCCCCCTCCTGGCCCCTGTCATCTTCTGTCCCTTCCCAGAAAACCTACCAGGGCAGCTACGGTTTCCGTCTGGGCTTCTTGCATTCTGGGACAGCCAAGTCTGTGACTTGCACGTACTCCCCTGCCCTCAACAAGATGTTTTGCCAACTGGCCAAGACCTGCCCTGTGCAGCTGTGGGTTGATTCCACACCCCCGCCCGGCACCCGCGTCCGCGCCATGGCCATCTACAAGCAGTCACAGCACATGACGGAGGTTGTGAGGCGCTGCCCCCACCATGAGCGCTGCTCAGATAGCGATGGTCTGGCCCCTCCTCAGCATCTTATCCGAGTGGAAGGAAATTTGCGTGTGGAGTATTTGGATGACAGAAACACTTTTCGACATAGTGTGGTGGTGCCCTATGAGCCGCCTGAGGTTGGCTCTGACTGTACCACCATCCACTACAACTACATGTGTAACAGTTCCTGCATGGGCGGCATGAACCGGAGGCCCATCCTCACCATCATCACACTGGAAGACTCCAGTGGTAATCTACTGGGACGGAACAGCTTTGAGGTGCGTGTTTGTGCCTGTCCTGGGAGAGACCGGCGCACAGAGGAAGAGAATCTCCGCAAGAAAGGGGAGCCTCACCACGAGCTGCCCCCAGGGAGCACTAAGCGAGCACTGCCCAACAACACCAGCTCCTCTCCCCAGCCAAAGAAGAAACCACTGGATGGAGAATATTTCACCCTTCAGATCCGTGGGCGTGAGCGCTTCGAGATGTTCCGAGAGCTGAATGAGGCCTTGGAACTCAAGGATGCCCAGGCTGGGAAGGAGCCAGGGGGGAGCAGGGCTCACTCCAGCCACCTGAAGTCCAAAAAGGGTCAGTCTACCTCCCGCCATAAAAAACTCATGTTCAAGACAGAAGGGCCTGACTCAGACTGA'"
      ]
     },
     "execution_count": 17,
     "metadata": {},
     "output_type": "execute_result"
    }
   ],
   "source": [
    "p53.cds_seq"
   ]
  },
  {
   "cell_type": "code",
   "execution_count": 18,
   "metadata": {
    "collapsed": false
   },
   "outputs": [
    {
     "data": {
      "text/plain": [
       "2591"
      ]
     },
     "execution_count": 18,
     "metadata": {},
     "output_type": "execute_result"
    }
   ],
   "source": [
    "len(p53.default_mRNA_seq)"
   ]
  },
  {
   "cell_type": "code",
   "execution_count": 19,
   "metadata": {
    "collapsed": false
   },
   "outputs": [
    {
     "name": "stdout",
     "output_type": "stream",
     "text": [
      "\n",
      "        *clean_seq(input_seq)*: remove white space or numbers in the input gene or protein sequence.\n",
      "        *reverse_complementory(input_seq)*: get the reversed complementory sequence of the input DNA sequence.\n",
      "        *GC_content(input_seq)*: calculate the GC content of the input sequence.\n",
      "        \n",
      "        --help or -h: get help info of Mybiotools\n",
      "    \n"
     ]
    }
   ],
   "source": [
    "mb.help_info()"
   ]
  },
  {
   "cell_type": "code",
   "execution_count": 20,
   "metadata": {
    "collapsed": false
   },
   "outputs": [
    {
     "data": {
      "text/plain": [
       "[('P04637', 'P53_HUMAN', 'Homo sapiens (Human)'),\n",
       " ('P02340', 'P53_MOUSE', 'Mus musculus (Mouse)'),\n",
       " ('Q96EB6', 'SIR1_HUMAN', 'Homo sapiens (Human)'),\n",
       " ('Q00987', 'MDM2_HUMAN', 'Homo sapiens (Human)'),\n",
       " ('O60260', 'PRKN2_HUMAN', 'Homo sapiens (Human)'),\n",
       " ('Q9NQ88', 'TIGAR_HUMAN', 'Homo sapiens (Human)'),\n",
       " ('Q13315', 'ATM_HUMAN', 'Homo sapiens (Human)'),\n",
       " ('Q09472', 'EP300_HUMAN', 'Homo sapiens (Human)'),\n",
       " ('P31749', 'AKT1_HUMAN', 'Homo sapiens (Human)'),\n",
       " ('P29590', 'PML_HUMAN', 'Homo sapiens (Human)'),\n",
       " ('Q7LG56', 'RIR2B_HUMAN', 'Homo sapiens (Human)'),\n",
       " ('Q9UER7', 'DAXX_HUMAN', 'Homo sapiens (Human)'),\n",
       " ('O96017', 'CHK2_HUMAN', 'Homo sapiens (Human)'),\n",
       " ('P38398', 'BRCA1_HUMAN', 'Homo sapiens (Human)'),\n",
       " ('Q05397', 'FAK1_HUMAN', 'Homo sapiens (Human)'),\n",
       " ('O43715', 'TRIA1_HUMAN', 'Homo sapiens (Human)'),\n",
       " ('Q9H3D4', 'P63_HUMAN', 'Homo sapiens (Human)'),\n",
       " ('Q8IXJ6', 'SIR2_HUMAN', 'Homo sapiens (Human)'),\n",
       " ('Q93009', 'UBP7_HUMAN', 'Homo sapiens (Human)'),\n",
       " ('Q15831', 'STK11_HUMAN', 'Homo sapiens (Human)'),\n",
       " ('Q16666', 'IF16_HUMAN', 'Homo sapiens (Human)'),\n",
       " ('Q9BUR4', 'WAP53_HUMAN', 'Homo sapiens (Human)'),\n",
       " ('Q9H2X6', 'HIPK2_HUMAN', 'Homo sapiens (Human)'),\n",
       " ('Q96S44', 'PRPK_HUMAN', 'Homo sapiens (Human)'),\n",
       " ('P0CG48', 'UBC_HUMAN', 'Homo sapiens (Human)')]"
      ]
     },
     "execution_count": 20,
     "metadata": {},
     "output_type": "execute_result"
    }
   ],
   "source": [
    "mb.uniprot_search('TP53')"
   ]
  },
  {
   "cell_type": "code",
   "execution_count": 21,
   "metadata": {
    "collapsed": false
   },
   "outputs": [
    {
     "data": {
      "text/plain": [
       "['.gitignore',\n",
       " 'AA_table.pickle',\n",
       " 'Base_notation.pickle',\n",
       " 'Demo.ipynb',\n",
       " 'LICENSE',\n",
       " 'Mybiotools.py',\n",
       " 'README.md',\n",
       " 'Restriction_Enzyme_list.pickle']"
      ]
     },
     "execution_count": 21,
     "metadata": {},
     "output_type": "execute_result"
    }
   ],
   "source": [
    "mb.list_files('.')"
   ]
  },
  {
   "cell_type": "code",
   "execution_count": 22,
   "metadata": {
    "collapsed": false
   },
   "outputs": [
    {
     "data": {
      "text/plain": [
       "['AA_table.pickle', 'Base_notation.pickle', 'Restriction_Enzyme_list.pickle']"
      ]
     },
     "execution_count": 22,
     "metadata": {},
     "output_type": "execute_result"
    }
   ],
   "source": [
    "mb.list_files('.', '.pickle')"
   ]
  },
  {
   "cell_type": "code",
   "execution_count": 23,
   "metadata": {
    "collapsed": false
   },
   "outputs": [
    {
     "data": {
      "text/plain": [
       "['AA_table.pickle',\n",
       " 'Base_notation.pickle',\n",
       " 'Mybiotools.py',\n",
       " 'Restriction_Enzyme_list.pickle']"
      ]
     },
     "execution_count": 23,
     "metadata": {},
     "output_type": "execute_result"
    }
   ],
   "source": [
    "mb.list_files('.', Type=['.pickle', '.py'])"
   ]
  },
  {
   "cell_type": "code",
   "execution_count": null,
   "metadata": {
    "collapsed": true
   },
   "outputs": [],
   "source": []
  }
 ],
 "metadata": {
  "kernelspec": {
   "display_name": "Python 3",
   "language": "python",
   "name": "python3"
  },
  "language_info": {
   "codemirror_mode": {
    "name": "ipython",
    "version": 3
   },
   "file_extension": ".py",
   "mimetype": "text/x-python",
   "name": "python",
   "nbconvert_exporter": "python",
   "pygments_lexer": "ipython3",
   "version": "3.5.1"
  }
 },
 "nbformat": 4,
 "nbformat_minor": 0
}
