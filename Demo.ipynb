{
 "cells": [
  {
   "cell_type": "markdown",
   "metadata": {},
   "source": [
    "# Mybiotools -- A biotools collection for bench scientists\n",
    "\n",
    "## Python scripts to make bench work easier\n",
    "\n",
    "### Author: Mingzhang Yang"
   ]
  },
  {
   "cell_type": "markdown",
   "metadata": {},
   "source": [
    "This notebook shows how you can take advantage of Mybiotools to make your life easier"
   ]
  },
  {
   "cell_type": "code",
   "execution_count": 1,
   "metadata": {
    "collapsed": false
   },
   "outputs": [],
   "source": [
    "#import Mybiotools package\n",
    "import Mybiotools as mb"
   ]
  },
  {
   "cell_type": "code",
   "execution_count": 2,
   "metadata": {
    "collapsed": false
   },
   "outputs": [
    {
     "name": "stdout",
     "output_type": "stream",
     "text": [
      "Please look up in the table below and set your gene of interest.\n",
      "      Gene ID                      Gene description  \\\n",
      "0        7157                    tumor protein p53    \n",
      "1       24842                    tumor protein p53    \n",
      "2       30590                    tumor protein p53    \n",
      "3        7158  tumor protein p53 binding protein 1    \n",
      "4      403869                    tumor protein p53    \n",
      "5      397276                    tumor protein p53    \n",
      "6      281542                    tumor protein p53    \n",
      "7      493847                    tumor protein p53    \n",
      "8   100062044                    tumor protein p53    \n",
      "9   100009292                    tumor protein p53    \n",
      "10  100682525                    tumor protein p53    \n",
      "11  100049321                    tumor protein p53    \n",
      "12     716170                    tumor protein p53    \n",
      "13  100379269                    tumor protein p53    \n",
      "14     455214                    tumor protein p53    \n",
      "15     443421                    tumor protein p53    \n",
      "16     431679                    tumor protein p53    \n",
      "17  102402069                    tumor protein p53    \n",
      "18  100583326                    tumor protein p53    \n",
      "19  100435218                    tumor protein p53    \n",
      "\n",
      "                                              Species  \n",
      "0                                Homo sapiens (human)  \n",
      "1                      Rattus norvegicus (Norway rat)  \n",
      "2                             Danio rerio (zebrafish)  \n",
      "3                                Homo sapiens (human)  \n",
      "4                        Canis lupus familiaris (dog)  \n",
      "5                                    Sus scrofa (pig)  \n",
      "6                                 Bos taurus (cattle)  \n",
      "7                          Felis catus (domestic cat)  \n",
      "8                              Equus caballus (horse)  \n",
      "9                      Oryctolagus cuniculus (rabbit)  \n",
      "10               Cricetulus griseus (Chinese hamster)  \n",
      "11                  Oryzias latipes (Japanese medaka)  \n",
      "12                     Macaca mulatta (Rhesus monkey)  \n",
      "13              Cavia porcellus (domestic guinea pig)  \n",
      "14                       Pan troglodytes (chimpanzee)  \n",
      "15                                 Ovis aries (sheep)  \n",
      "16          Xenopus tropicalis (tropical clawed frog)  \n",
      "17                    Bubalus bubalis (water buffalo)  \n",
      "18  Nomascus leucogenys (northern white-cheeked gi...  \n",
      "19                  Pongo abelii (Sumatran orangutan)  \n",
      "Please select the index number(starts from 0) of the gene of your interest:  0\n",
      "\n",
      "\n",
      "Your gene object tumor protein p53  from Homo sapiens (human) has been created successfully.\n"
     ]
    }
   ],
   "source": [
    "p53 = mb.Gene('TP53')"
   ]
  },
  {
   "cell_type": "code",
   "execution_count": 3,
   "metadata": {
    "collapsed": false
   },
   "outputs": [
    {
     "data": {
      "text/plain": [
       "'TP53'"
      ]
     },
     "execution_count": 3,
     "metadata": {},
     "output_type": "execute_result"
    }
   ],
   "source": [
    "p53.name"
   ]
  },
  {
   "cell_type": "code",
   "execution_count": 4,
   "metadata": {
    "collapsed": false
   },
   "outputs": [
    {
     "data": {
      "text/plain": [
       "'Homo sapiens (human)'"
      ]
     },
     "execution_count": 4,
     "metadata": {},
     "output_type": "execute_result"
    }
   ],
   "source": [
    "p53.Species"
   ]
  },
  {
   "cell_type": "code",
   "execution_count": 5,
   "metadata": {
    "collapsed": true
   },
   "outputs": [],
   "source": [
    "p53.mRNA"
   ]
  },
  {
   "cell_type": "code",
   "execution_count": 6,
   "metadata": {
    "collapsed": true
   },
   "outputs": [],
   "source": [
    "p53.default_mRNA"
   ]
  },
  {
   "cell_type": "code",
   "execution_count": 7,
   "metadata": {
    "collapsed": false
   },
   "outputs": [
    {
     "name": "stdout",
     "output_type": "stream",
     "text": [
      "7157\n"
     ]
    }
   ],
   "source": [
    "p53.get_Gene_ID()"
   ]
  },
  {
   "cell_type": "code",
   "execution_count": 8,
   "metadata": {
    "collapsed": false
   },
   "outputs": [
    {
     "name": "stdout",
     "output_type": "stream",
     "text": [
      "             NM_id                                  name  \\\n",
      "0      NM_000546.5  cellular tumor antigen p53 isoform a   \n",
      "1   NM_001126112.2  cellular tumor antigen p53 isoform a   \n",
      "2   NM_001126113.2  cellular tumor antigen p53 isoform c   \n",
      "3   NM_001126114.2  cellular tumor antigen p53 isoform b   \n",
      "4   NM_001126115.1  cellular tumor antigen p53 isoform d   \n",
      "5   NM_001126116.1  cellular tumor antigen p53 isoform e   \n",
      "6   NM_001126117.1  cellular tumor antigen p53 isoform f   \n",
      "7   NM_001126118.1  cellular tumor antigen p53 isoform g   \n",
      "8   NM_001276695.1  cellular tumor antigen p53 isoform h   \n",
      "9   NM_001276696.1  cellular tumor antigen p53 isoform i   \n",
      "10  NM_001276697.1  cellular tumor antigen p53 isoform j   \n",
      "11  NM_001276698.1  cellular tumor antigen p53 isoform k   \n",
      "12  NM_001276699.1  cellular tumor antigen p53 isoform l   \n",
      "13  NM_001276760.1  cellular tumor antigen p53 isoform g   \n",
      "14  NM_001276761.1  cellular tumor antigen p53 isoform g   \n",
      "\n",
      "                                          description  \n",
      "0   This variant (1) can initiate translation from...  \n",
      "1   This variant (2) uses an alternate splice site...  \n",
      "2   This variant (4) contains an additional exon i...  \n",
      "3   This variant (3) contains an additional exon i...  \n",
      "4   This variant (5) uses an alternate promoter an...  \n",
      "5   This variant (6) uses an alternate promoter an...  \n",
      "6   This variant (7) uses an alternate promoter an...  \n",
      "7   This variant (8, also known as p53I2) differs ...  \n",
      "8   This variant (4) contains an additional exon i...  \n",
      "9   This variant (3) contains an additional exon i...  \n",
      "10  This variant (5) uses an alternate promoter an...  \n",
      "11  This variant (6) uses an alternate promoter an...  \n",
      "12  This variant (7) uses an alternate promoter an...  \n",
      "13  This variant (1) can initiate translation from...  \n",
      "14  This variant (2) uses an alternate splice site...  \n"
     ]
    }
   ],
   "source": [
    "p53.get_mRNA()"
   ]
  },
  {
   "cell_type": "code",
   "execution_count": 9,
   "metadata": {
    "collapsed": false
   },
   "outputs": [
    {
     "data": {
      "text/plain": [
       "['total: 15',\n",
       " <Mybiotools.isoforms at 0x114d4cdd8>,\n",
       " <Mybiotools.isoforms at 0x114d4ce10>,\n",
       " <Mybiotools.isoforms at 0x114d4cda0>,\n",
       " <Mybiotools.isoforms at 0x114d4ce48>,\n",
       " <Mybiotools.isoforms at 0x104356400>,\n",
       " <Mybiotools.isoforms at 0x104356588>,\n",
       " <Mybiotools.isoforms at 0x1043564a8>,\n",
       " <Mybiotools.isoforms at 0x1043565c0>,\n",
       " <Mybiotools.isoforms at 0x104356550>,\n",
       " <Mybiotools.isoforms at 0x114d6beb8>,\n",
       " <Mybiotools.isoforms at 0x114d6bf98>,\n",
       " <Mybiotools.isoforms at 0x114d92f28>,\n",
       " <Mybiotools.isoforms at 0x114d92c18>,\n",
       " <Mybiotools.isoforms at 0x114d92be0>,\n",
       " <Mybiotools.isoforms at 0x114d92438>]"
      ]
     },
     "execution_count": 9,
     "metadata": {},
     "output_type": "execute_result"
    }
   ],
   "source": [
    "p53.mRNA"
   ]
  },
  {
   "cell_type": "code",
   "execution_count": 10,
   "metadata": {
    "collapsed": false
   },
   "outputs": [
    {
     "data": {
      "text/plain": [
       "<Mybiotools.isoforms at 0x114d4cdd8>"
      ]
     },
     "execution_count": 10,
     "metadata": {},
     "output_type": "execute_result"
    }
   ],
   "source": [
    "p53.mRNA[1]"
   ]
  },
  {
   "cell_type": "code",
   "execution_count": 11,
   "metadata": {
    "collapsed": false
   },
   "outputs": [
    {
     "data": {
      "text/plain": [
       "'NM_000546.5'"
      ]
     },
     "execution_count": 11,
     "metadata": {},
     "output_type": "execute_result"
    }
   ],
   "source": [
    "p53.mRNA[1].NM_id"
   ]
  },
  {
   "cell_type": "code",
   "execution_count": 12,
   "metadata": {
    "collapsed": false
   },
   "outputs": [
    {
     "data": {
      "text/plain": [
       "'cellular tumor antigen p53 isoform a'"
      ]
     },
     "execution_count": 12,
     "metadata": {},
     "output_type": "execute_result"
    }
   ],
   "source": [
    "p53.mRNA[1].name"
   ]
  },
  {
   "cell_type": "code",
   "execution_count": 13,
   "metadata": {
    "collapsed": false
   },
   "outputs": [
    {
     "data": {
      "text/plain": [
       "'This variant (1) can initiate translation from two in-frame AUG start codons. The isoform represented in this variant (a, also known as p53alpha) results from translation initiation at the upstream start codon. Both variants 1 and 2 encode isoform a, which is the longest isoform.'"
      ]
     },
     "execution_count": 13,
     "metadata": {},
     "output_type": "execute_result"
    }
   ],
   "source": [
    "p53.mRNA[1].description"
   ]
  },
  {
   "cell_type": "code",
   "execution_count": 14,
   "metadata": {
    "collapsed": false
   },
   "outputs": [
    {
     "data": {
      "text/plain": [
       "<Mybiotools.isoforms at 0x114d4cdd8>"
      ]
     },
     "execution_count": 14,
     "metadata": {},
     "output_type": "execute_result"
    }
   ],
   "source": [
    "p53.default_mRNA"
   ]
  },
  {
   "cell_type": "code",
   "execution_count": 15,
   "metadata": {
    "collapsed": false
   },
   "outputs": [
    {
     "data": {
      "text/plain": [
       "\"The default mRNA seq and CDS seq have been set as TP53's attributes.\""
      ]
     },
     "execution_count": 15,
     "metadata": {},
     "output_type": "execute_result"
    }
   ],
   "source": [
    "p53.get_mRNA_seq()"
   ]
  },
  {
   "cell_type": "code",
   "execution_count": 16,
   "metadata": {
    "collapsed": false
   },
   "outputs": [
    {
     "data": {
      "text/plain": [
       "'GATGGGATTGGGGTTTTCCCCTCCCATGTGCTCAAGACTGGCGCTAAAAGTTTTGAGCTTCTCAAAAGTCTAGAGCCACCGTCCAGGGAGCAGGTAGCTGCTGGGCTCCGGGGACACTTTGCGTTCGGGCTGGGAGCGTGCTTTCCACGACGGTGACACGCTTCCCTGGATTGGCAGCCAGACTGCCTTCCGGGTCACTGCCATGGAGGAGCCGCAGTCAGATCCTAGCGTCGAGCCCCCTCTGAGTCAGGAAACATTTTCAGACCTATGGAAACTACTTCCTGAAAACAACGTTCTGTCCCCCTTGCCGTCCCAAGCAATGGATGATTTGATGCTGTCCCCGGACGATATTGAACAATGGTTCACTGAAGACCCAGGTCCAGATGAAGCTCCCAGAATGCCAGAGGCTGCTCCCCCCGTGGCCCCTGCACCAGCAGCTCCTACACCGGCGGCCCCTGCACCAGCCCCCTCCTGGCCCCTGTCATCTTCTGTCCCTTCCCAGAAAACCTACCAGGGCAGCTACGGTTTCCGTCTGGGCTTCTTGCATTCTGGGACAGCCAAGTCTGTGACTTGCACGTACTCCCCTGCCCTCAACAAGATGTTTTGCCAACTGGCCAAGACCTGCCCTGTGCAGCTGTGGGTTGATTCCACACCCCCGCCCGGCACCCGCGTCCGCGCCATGGCCATCTACAAGCAGTCACAGCACATGACGGAGGTTGTGAGGCGCTGCCCCCACCATGAGCGCTGCTCAGATAGCGATGGTCTGGCCCCTCCTCAGCATCTTATCCGAGTGGAAGGAAATTTGCGTGTGGAGTATTTGGATGACAGAAACACTTTTCGACATAGTGTGGTGGTGCCCTATGAGCCGCCTGAGGTTGGCTCTGACTGTACCACCATCCACTACAACTACATGTGTAACAGTTCCTGCATGGGCGGCATGAACCGGAGGCCCATCCTCACCATCATCACACTGGAAGACTCCAGTGGTAATCTACTGGGACGGAACAGCTTTGAGGTGCGTGTTTGTGCCTGTCCTGGGAGAGACCGGCGCACAGAGGAAGAGAATCTCCGCAAGAAAGGGGAGCCTCACCACGAGCTGCCCCCAGGGAGCACTAAGCGAGCACTGCCCAACAACACCAGCTCCTCTCCCCAGCCAAAGAAGAAACCACTGGATGGAGAATATTTCACCCTTCAGATCCGTGGGCGTGAGCGCTTCGAGATGTTCCGAGAGCTGAATGAGGCCTTGGAACTCAAGGATGCCCAGGCTGGGAAGGAGCCAGGGGGGAGCAGGGCTCACTCCAGCCACCTGAAGTCCAAAAAGGGTCAGTCTACCTCCCGCCATAAAAAACTCATGTTCAAGACAGAAGGGCCTGACTCAGACTGACATTCTCCACTTCTTGTTCCCCACTGACAGCCTCCCACCCCCATCTCTCCCTCCCCTGCCATTTTGGGTTTTGGGTCTTTGAACCCTTGCTTGCAATAGGTGTGCGTCAGAAGCACCCAGGACTTCCATTTGCTTTGTCCCGGGGCTCCACTGAACAAGTTGGCCTGCACTGGTGTTTTGTTGTGGGGAGGAGGATGGGGAGTAGGACATACCAGCTTAGATTTTAAGGTTTTTACTGTGAGGGATGTTTGGGAGATGTAAGAAATGTTCTTGCAGTTAAGGGTTAGTTTACAATCAGCCACATTCTAGGTAGGGGCCCACTTCACCGTACTAACCAGGGAAGCTGTCCCTCACTGTTGAATTTTCTCTAACTTCAAGGCCCATATCTGTGAAATGCTGGCATTTGCACCTACCTCACAGAGTGCATTGTGAGGGTTAATGAAATAATGTACATCTGGCCTTGAAACCACCTTTTATTACATGGGGTCTAGAACTTGACCCCCTTGAGGGTGCTTGTTCCCTCTCCCTGTTGGTCGGTGGGTTGGTAGTTTCTACAGTTGGGCAGCTGGTTAGGTAGAGGGAGTTGTCAAGTCTCTGCTGGCCCAGCCAAACCCTGTCTGACAACCTCTTGGTGAACCTTAGTACCTAAAAGGAAATCTCACCCCATCCCACACCCTGGAGGATTTCATCTCTTGTATATGATGATCTGGATCCACCAAGACTTGTTTTATGCTCAGGGTCAATTTCTTTTTTCTTTTTTTTTTTTTTTTTTCTTTTTCTTTGAGACTGGGTCTCGCTTTGTTGCCCAGGCTGGAGTGGAGTGGCGTGATCTTGGCTTACTGCAGCCTTTGCCTCCCCGGCTCGAGCAGTCCTGCCTCAGCCTCCGGAGTAGCTGGGACCACAGGTTCATGCCACCATGGCCAGCCAACTTTTGCATGTTTTGTAGAGATGGGGTCTCACAGTGTTGCCCAGGCTGGTCTCAAACTCCTGGGCTCAGGCGATCCACCTGTCTCAGCCTCCCAGAGTGCTGGGATTACAATTGTGAGCCACCACGTCCAGCTGGAAGGGTCAACATCTTTTACATTCTGCAAGCACATCTGCATTTTCACCCCACCCTTCCCCTCCTTCTCCCTTTTTATATCCCATTTTTATATCGATCTCTTATTTTACAATAAAACTTTGCTGCCACCTGTGTGTCTGAGGGGTG'"
      ]
     },
     "execution_count": 16,
     "metadata": {},
     "output_type": "execute_result"
    }
   ],
   "source": [
    "p53.default_mRNA_seq"
   ]
  },
  {
   "cell_type": "code",
   "execution_count": 17,
   "metadata": {
    "collapsed": false
   },
   "outputs": [
    {
     "data": {
      "text/plain": [
       "'ATGGAGGAGCCGCAGTCAGATCCTAGCGTCGAGCCCCCTCTGAGTCAGGAAACATTTTCAGACCTATGGAAACTACTTCCTGAAAACAACGTTCTGTCCCCCTTGCCGTCCCAAGCAATGGATGATTTGATGCTGTCCCCGGACGATATTGAACAATGGTTCACTGAAGACCCAGGTCCAGATGAAGCTCCCAGAATGCCAGAGGCTGCTCCCCCCGTGGCCCCTGCACCAGCAGCTCCTACACCGGCGGCCCCTGCACCAGCCCCCTCCTGGCCCCTGTCATCTTCTGTCCCTTCCCAGAAAACCTACCAGGGCAGCTACGGTTTCCGTCTGGGCTTCTTGCATTCTGGGACAGCCAAGTCTGTGACTTGCACGTACTCCCCTGCCCTCAACAAGATGTTTTGCCAACTGGCCAAGACCTGCCCTGTGCAGCTGTGGGTTGATTCCACACCCCCGCCCGGCACCCGCGTCCGCGCCATGGCCATCTACAAGCAGTCACAGCACATGACGGAGGTTGTGAGGCGCTGCCCCCACCATGAGCGCTGCTCAGATAGCGATGGTCTGGCCCCTCCTCAGCATCTTATCCGAGTGGAAGGAAATTTGCGTGTGGAGTATTTGGATGACAGAAACACTTTTCGACATAGTGTGGTGGTGCCCTATGAGCCGCCTGAGGTTGGCTCTGACTGTACCACCATCCACTACAACTACATGTGTAACAGTTCCTGCATGGGCGGCATGAACCGGAGGCCCATCCTCACCATCATCACACTGGAAGACTCCAGTGGTAATCTACTGGGACGGAACAGCTTTGAGGTGCGTGTTTGTGCCTGTCCTGGGAGAGACCGGCGCACAGAGGAAGAGAATCTCCGCAAGAAAGGGGAGCCTCACCACGAGCTGCCCCCAGGGAGCACTAAGCGAGCACTGCCCAACAACACCAGCTCCTCTCCCCAGCCAAAGAAGAAACCACTGGATGGAGAATATTTCACCCTTCAGATCCGTGGGCGTGAGCGCTTCGAGATGTTCCGAGAGCTGAATGAGGCCTTGGAACTCAAGGATGCCCAGGCTGGGAAGGAGCCAGGGGGGAGCAGGGCTCACTCCAGCCACCTGAAGTCCAAAAAGGGTCAGTCTACCTCCCGCCATAAAAAACTCATGTTCAAGACAGAAGGGCCTGACTCAGACTGA'"
      ]
     },
     "execution_count": 17,
     "metadata": {},
     "output_type": "execute_result"
    }
   ],
   "source": [
    "p53.cds_seq"
   ]
  },
  {
   "cell_type": "code",
   "execution_count": 18,
   "metadata": {
    "collapsed": false
   },
   "outputs": [
    {
     "data": {
      "text/plain": [
       "2591"
      ]
     },
     "execution_count": 18,
     "metadata": {},
     "output_type": "execute_result"
    }
   ],
   "source": [
    "len(p53.default_mRNA_seq)"
   ]
  },
  {
   "cell_type": "code",
   "execution_count": 19,
   "metadata": {
    "collapsed": false
   },
   "outputs": [
    {
     "name": "stdout",
     "output_type": "stream",
     "text": [
      "\n",
      "        *clean_seq(input_seq)*: remove white space or numbers in the input gene or protein sequence.\n",
      "        *reverse_complementory(input_seq)*: get the reversed complementory sequence of the input DNA sequence.\n",
      "        *GC_content(input_seq)*: calculate the GC content of the input sequence.\n",
      "        \n",
      "        --help or -h: get help info of Mybiotools\n",
      "    \n"
     ]
    }
   ],
   "source": [
    "mb.help_info()"
   ]
  },
  {
   "cell_type": "code",
   "execution_count": 20,
   "metadata": {
    "collapsed": false
   },
   "outputs": [
    {
     "data": {
      "text/plain": [
       "[('P04637', 'P53_HUMAN', 'Homo sapiens (Human)'),\n",
       " ('P02340', 'P53_MOUSE', 'Mus musculus (Mouse)'),\n",
       " ('Q96EB6', 'SIR1_HUMAN', 'Homo sapiens (Human)'),\n",
       " ('Q00987', 'MDM2_HUMAN', 'Homo sapiens (Human)'),\n",
       " ('O60260', 'PRKN2_HUMAN', 'Homo sapiens (Human)'),\n",
       " ('Q9NQ88', 'TIGAR_HUMAN', 'Homo sapiens (Human)'),\n",
       " ('Q13315', 'ATM_HUMAN', 'Homo sapiens (Human)'),\n",
       " ('Q09472', 'EP300_HUMAN', 'Homo sapiens (Human)'),\n",
       " ('P31749', 'AKT1_HUMAN', 'Homo sapiens (Human)'),\n",
       " ('P29590', 'PML_HUMAN', 'Homo sapiens (Human)'),\n",
       " ('Q7LG56', 'RIR2B_HUMAN', 'Homo sapiens (Human)'),\n",
       " ('Q9UER7', 'DAXX_HUMAN', 'Homo sapiens (Human)'),\n",
       " ('O96017', 'CHK2_HUMAN', 'Homo sapiens (Human)'),\n",
       " ('P38398', 'BRCA1_HUMAN', 'Homo sapiens (Human)'),\n",
       " ('Q05397', 'FAK1_HUMAN', 'Homo sapiens (Human)'),\n",
       " ('O43715', 'TRIA1_HUMAN', 'Homo sapiens (Human)'),\n",
       " ('Q9H3D4', 'P63_HUMAN', 'Homo sapiens (Human)'),\n",
       " ('Q8IXJ6', 'SIR2_HUMAN', 'Homo sapiens (Human)'),\n",
       " ('Q93009', 'UBP7_HUMAN', 'Homo sapiens (Human)'),\n",
       " ('Q15831', 'STK11_HUMAN', 'Homo sapiens (Human)'),\n",
       " ('Q16666', 'IF16_HUMAN', 'Homo sapiens (Human)'),\n",
       " ('Q9BUR4', 'WAP53_HUMAN', 'Homo sapiens (Human)'),\n",
       " ('Q9H2X6', 'HIPK2_HUMAN', 'Homo sapiens (Human)'),\n",
       " ('Q96S44', 'PRPK_HUMAN', 'Homo sapiens (Human)'),\n",
       " ('P0CG48', 'UBC_HUMAN', 'Homo sapiens (Human)')]"
      ]
     },
     "execution_count": 20,
     "metadata": {},
     "output_type": "execute_result"
    }
   ],
   "source": [
    "mb.uniprot_search('TP53')"
   ]
  },
  {
   "cell_type": "code",
   "execution_count": 21,
   "metadata": {
    "collapsed": false
   },
   "outputs": [
    {
     "data": {
      "text/plain": [
       "['.gitignore',\n",
       " 'AA_table.pickle',\n",
       " 'Base_notation.pickle',\n",
       " 'Demo.ipynb',\n",
       " 'LICENSE',\n",
       " 'Mybiotools.py',\n",
       " 'README.md',\n",
       " 'Restriction_Enzyme_list.pickle']"
      ]
     },
     "execution_count": 21,
     "metadata": {},
     "output_type": "execute_result"
    }
   ],
   "source": [
    "mb.list_files('.')"
   ]
  },
  {
   "cell_type": "code",
   "execution_count": 22,
   "metadata": {
    "collapsed": false
   },
   "outputs": [
    {
     "data": {
      "text/plain": [
       "['AA_table.pickle', 'Base_notation.pickle', 'Restriction_Enzyme_list.pickle']"
      ]
     },
     "execution_count": 22,
     "metadata": {},
     "output_type": "execute_result"
    }
   ],
   "source": [
    "mb.list_files('.', '.pickle')"
   ]
  },
  {
   "cell_type": "code",
   "execution_count": 23,
   "metadata": {
    "collapsed": false
   },
   "outputs": [
    {
     "data": {
      "text/plain": [
       "['AA_table.pickle',\n",
       " 'Base_notation.pickle',\n",
       " 'Mybiotools.py',\n",
       " 'Restriction_Enzyme_list.pickle']"
      ]
     },
     "execution_count": 23,
     "metadata": {},
     "output_type": "execute_result"
    }
   ],
   "source": [
    "mb.list_files('.', Type=['.pickle', '.py'])"
   ]
  },
  {
   "cell_type": "code",
   "execution_count": 1,
   "metadata": {
    "collapsed": true
   },
   "outputs": [],
   "source": [
    "import pandas as pd"
   ]
  },
  {
   "cell_type": "code",
   "execution_count": 2,
   "metadata": {
    "collapsed": true
   },
   "outputs": [],
   "source": [
    "enzymes = pd.read_pickle('Restriction_Enzyme_list.pickle')"
   ]
  },
  {
   "cell_type": "code",
   "execution_count": 3,
   "metadata": {
    "collapsed": false
   },
   "outputs": [
    {
     "data": {
      "text/html": [
       "<div>\n",
       "<table border=\"1\" class=\"dataframe\">\n",
       "  <thead>\n",
       "    <tr style=\"text-align: right;\">\n",
       "      <th></th>\n",
       "      <th>Recognition Sequence</th>\n",
       "      <th>Enzyme</th>\n",
       "      <th>Pattern</th>\n",
       "    </tr>\n",
       "  </thead>\n",
       "  <tbody>\n",
       "    <tr>\n",
       "      <th>0</th>\n",
       "      <td>AA/CGTT</td>\n",
       "      <td>AclI</td>\n",
       "      <td>AACGTT</td>\n",
       "    </tr>\n",
       "    <tr>\n",
       "      <th>1</th>\n",
       "      <td>A/AGCTT</td>\n",
       "      <td>HindIII HindIII-HF®</td>\n",
       "      <td>AAGCTT</td>\n",
       "    </tr>\n",
       "    <tr>\n",
       "      <th>2</th>\n",
       "      <td>AAT/ATT</td>\n",
       "      <td>SspI SspI-HF®</td>\n",
       "      <td>AATATT</td>\n",
       "    </tr>\n",
       "    <tr>\n",
       "      <th>3</th>\n",
       "      <td>/AATT</td>\n",
       "      <td>MluCI Tsp509I</td>\n",
       "      <td>AATT</td>\n",
       "    </tr>\n",
       "    <tr>\n",
       "      <th>4</th>\n",
       "      <td>A/CATGT</td>\n",
       "      <td>PciI</td>\n",
       "      <td>ACATGT</td>\n",
       "    </tr>\n",
       "    <tr>\n",
       "      <th>5</th>\n",
       "      <td>A/CCGGT</td>\n",
       "      <td>AgeI AgeI-HF® AgeI-HF® RE-Mix®</td>\n",
       "      <td>ACCGGT</td>\n",
       "    </tr>\n",
       "    <tr>\n",
       "      <th>7</th>\n",
       "      <td>A/CCWGGT</td>\n",
       "      <td>SexAI</td>\n",
       "      <td>ACC[AT]GGT</td>\n",
       "    </tr>\n",
       "    <tr>\n",
       "      <th>8</th>\n",
       "      <td>A/CGCGT</td>\n",
       "      <td>MluI MluI-HF®</td>\n",
       "      <td>ACGCGT</td>\n",
       "    </tr>\n",
       "    <tr>\n",
       "      <th>10</th>\n",
       "      <td>A/CGT</td>\n",
       "      <td>HpyCH4IV</td>\n",
       "      <td>ACGT</td>\n",
       "    </tr>\n",
       "    <tr>\n",
       "      <th>11</th>\n",
       "      <td>ACN/GT</td>\n",
       "      <td>HpyCH4III</td>\n",
       "      <td>AC[ATCG]GT</td>\n",
       "    </tr>\n",
       "    <tr>\n",
       "      <th>14</th>\n",
       "      <td>A/CRYGT</td>\n",
       "      <td>AflIII</td>\n",
       "      <td>AC[AG][CT]GT</td>\n",
       "    </tr>\n",
       "    <tr>\n",
       "      <th>15</th>\n",
       "      <td>A/CTAGT</td>\n",
       "      <td>SpeI SpeI-HF® SpeI RE-Mix®</td>\n",
       "      <td>ACTAGT</td>\n",
       "    </tr>\n",
       "    <tr>\n",
       "      <th>18</th>\n",
       "      <td>A/GATCT</td>\n",
       "      <td>BglII</td>\n",
       "      <td>AGATCT</td>\n",
       "    </tr>\n",
       "    <tr>\n",
       "      <th>19</th>\n",
       "      <td>AGC/GCT</td>\n",
       "      <td>AfeI</td>\n",
       "      <td>AGCGCT</td>\n",
       "    </tr>\n",
       "    <tr>\n",
       "      <th>20</th>\n",
       "      <td>AG/CT</td>\n",
       "      <td>AluI</td>\n",
       "      <td>AGCT</td>\n",
       "    </tr>\n",
       "    <tr>\n",
       "      <th>21</th>\n",
       "      <td>AGG/CCT</td>\n",
       "      <td>StuI</td>\n",
       "      <td>AGGCCT</td>\n",
       "    </tr>\n",
       "    <tr>\n",
       "      <th>22</th>\n",
       "      <td>AGT/ACT</td>\n",
       "      <td>ScaI ScaI-HF® ScaI-HF® RE-Mix®</td>\n",
       "      <td>AGTACT</td>\n",
       "    </tr>\n",
       "    <tr>\n",
       "      <th>23</th>\n",
       "      <td>AT/CGAT</td>\n",
       "      <td>ClaI BspDI</td>\n",
       "      <td>ATCGAT</td>\n",
       "    </tr>\n",
       "    <tr>\n",
       "      <th>25</th>\n",
       "      <td>ATGCA/T</td>\n",
       "      <td>NsiI NsiI-HF®</td>\n",
       "      <td>ATGCAT</td>\n",
       "    </tr>\n",
       "    <tr>\n",
       "      <th>26</th>\n",
       "      <td>AT/TAAT</td>\n",
       "      <td>AseI</td>\n",
       "      <td>ATTAAT</td>\n",
       "    </tr>\n",
       "    <tr>\n",
       "      <th>27</th>\n",
       "      <td>ATTT/AAAT</td>\n",
       "      <td>SwaI</td>\n",
       "      <td>ATTTAAAT</td>\n",
       "    </tr>\n",
       "    <tr>\n",
       "      <th>29</th>\n",
       "      <td>C/AATTG</td>\n",
       "      <td>MfeI MfeI-HF® MfeI-HF® RE-Mix®</td>\n",
       "      <td>CAATTG</td>\n",
       "    </tr>\n",
       "    <tr>\n",
       "      <th>32</th>\n",
       "      <td>CAC/GTG</td>\n",
       "      <td>PmlI</td>\n",
       "      <td>CACGTG</td>\n",
       "    </tr>\n",
       "    <tr>\n",
       "      <th>33</th>\n",
       "      <td>CACNNN/GTG</td>\n",
       "      <td>DraIII DraIII-HF®</td>\n",
       "      <td>CAC[ATCG][ATCG][ATCG]GTG</td>\n",
       "    </tr>\n",
       "    <tr>\n",
       "      <th>34</th>\n",
       "      <td>CACNN/NNGTG</td>\n",
       "      <td>AleI</td>\n",
       "      <td>CAC[ATCG][ATCG][ATCG][ATCG]GTG</td>\n",
       "    </tr>\n",
       "    <tr>\n",
       "      <th>36</th>\n",
       "      <td>CAG/CTG</td>\n",
       "      <td>PvuII PvuII-HF®</td>\n",
       "      <td>CAGCTG</td>\n",
       "    </tr>\n",
       "    <tr>\n",
       "      <th>37</th>\n",
       "      <td>CAGNNN/CTG</td>\n",
       "      <td>AlwNI</td>\n",
       "      <td>CAG[ATCG][ATCG][ATCG]CTG</td>\n",
       "    </tr>\n",
       "    <tr>\n",
       "      <th>39</th>\n",
       "      <td>NNCASTGNN/</td>\n",
       "      <td>TspRI</td>\n",
       "      <td>[ATCG][ATCG]CA[GC]TG[ATCG][ATCG]</td>\n",
       "    </tr>\n",
       "    <tr>\n",
       "      <th>40</th>\n",
       "      <td>CA/TATG</td>\n",
       "      <td>NdeI</td>\n",
       "      <td>CATATG</td>\n",
       "    </tr>\n",
       "    <tr>\n",
       "      <th>41</th>\n",
       "      <td>CATG/</td>\n",
       "      <td>NlaIII</td>\n",
       "      <td>CATG</td>\n",
       "    </tr>\n",
       "    <tr>\n",
       "      <th>...</th>\n",
       "      <td>...</td>\n",
       "      <td>...</td>\n",
       "      <td>...</td>\n",
       "    </tr>\n",
       "    <tr>\n",
       "      <th>204</th>\n",
       "      <td>R/AATTY</td>\n",
       "      <td>ApoI ApoI-HF</td>\n",
       "      <td>[AG]AATT[CT]</td>\n",
       "    </tr>\n",
       "    <tr>\n",
       "      <th>205</th>\n",
       "      <td>RCATG/Y</td>\n",
       "      <td>NspI</td>\n",
       "      <td>[AG]CATG[CT]</td>\n",
       "    </tr>\n",
       "    <tr>\n",
       "      <th>206</th>\n",
       "      <td>R/CCGGY</td>\n",
       "      <td>BsrFI</td>\n",
       "      <td>[AG]CCGG[CT]</td>\n",
       "    </tr>\n",
       "    <tr>\n",
       "      <th>207</th>\n",
       "      <td>R/GATCY</td>\n",
       "      <td>BstYI</td>\n",
       "      <td>[AG]GATC[CT]</td>\n",
       "    </tr>\n",
       "    <tr>\n",
       "      <th>208</th>\n",
       "      <td>RGCGC/Y</td>\n",
       "      <td>HaeII</td>\n",
       "      <td>[AG]GCGC[CT]</td>\n",
       "    </tr>\n",
       "    <tr>\n",
       "      <th>209</th>\n",
       "      <td>RG/CY</td>\n",
       "      <td>CviKI-1</td>\n",
       "      <td>[AG]GC[CT]</td>\n",
       "    </tr>\n",
       "    <tr>\n",
       "      <th>210</th>\n",
       "      <td>RG/GNCCY</td>\n",
       "      <td>EcoO109I</td>\n",
       "      <td>[AG]GG[ATCG]CC[CT]</td>\n",
       "    </tr>\n",
       "    <tr>\n",
       "      <th>211</th>\n",
       "      <td>RG/GWCCY</td>\n",
       "      <td>PpuMI</td>\n",
       "      <td>[AG]GG[AT]CC[CT]</td>\n",
       "    </tr>\n",
       "    <tr>\n",
       "      <th>213</th>\n",
       "      <td>TAC/GTA</td>\n",
       "      <td>SnaBI</td>\n",
       "      <td>TACGTA</td>\n",
       "    </tr>\n",
       "    <tr>\n",
       "      <th>215</th>\n",
       "      <td>T/CATGA</td>\n",
       "      <td>BspHI</td>\n",
       "      <td>TCATGA</td>\n",
       "    </tr>\n",
       "    <tr>\n",
       "      <th>216</th>\n",
       "      <td>T/CCGGA</td>\n",
       "      <td>BspEI</td>\n",
       "      <td>TCCGGA</td>\n",
       "    </tr>\n",
       "    <tr>\n",
       "      <th>218</th>\n",
       "      <td>T/CGA</td>\n",
       "      <td>TaqαI</td>\n",
       "      <td>TCGA</td>\n",
       "    </tr>\n",
       "    <tr>\n",
       "      <th>219</th>\n",
       "      <td>TCG/CGA</td>\n",
       "      <td>NruI NruI-HF®</td>\n",
       "      <td>TCGCGA</td>\n",
       "    </tr>\n",
       "    <tr>\n",
       "      <th>220</th>\n",
       "      <td>TCN/GA</td>\n",
       "      <td>Hpy188I</td>\n",
       "      <td>TC[ATCG]GA</td>\n",
       "    </tr>\n",
       "    <tr>\n",
       "      <th>221</th>\n",
       "      <td>TC/NNGA</td>\n",
       "      <td>Hpy188III</td>\n",
       "      <td>TC[ATCG][ATCG]GA</td>\n",
       "    </tr>\n",
       "    <tr>\n",
       "      <th>222</th>\n",
       "      <td>T/CTAGA</td>\n",
       "      <td>XbaI XbaI RE-Mix®</td>\n",
       "      <td>TCTAGA</td>\n",
       "    </tr>\n",
       "    <tr>\n",
       "      <th>223</th>\n",
       "      <td>T/GATCA</td>\n",
       "      <td>BclI</td>\n",
       "      <td>TGATCA</td>\n",
       "    </tr>\n",
       "    <tr>\n",
       "      <th>224</th>\n",
       "      <td>TG/CA</td>\n",
       "      <td>HpyCH4V</td>\n",
       "      <td>TGCA</td>\n",
       "    </tr>\n",
       "    <tr>\n",
       "      <th>225</th>\n",
       "      <td>TGC/GCA</td>\n",
       "      <td>FspI</td>\n",
       "      <td>TGCGCA</td>\n",
       "    </tr>\n",
       "    <tr>\n",
       "      <th>227</th>\n",
       "      <td>TGG/CCA</td>\n",
       "      <td>MscI</td>\n",
       "      <td>TGGCCA</td>\n",
       "    </tr>\n",
       "    <tr>\n",
       "      <th>228</th>\n",
       "      <td>T/GTACA</td>\n",
       "      <td>BsrGI BsrGI-HF®</td>\n",
       "      <td>TGTACA</td>\n",
       "    </tr>\n",
       "    <tr>\n",
       "      <th>229</th>\n",
       "      <td>T/TAA</td>\n",
       "      <td>MseI</td>\n",
       "      <td>TTAA</td>\n",
       "    </tr>\n",
       "    <tr>\n",
       "      <th>230</th>\n",
       "      <td>TTAAT/TAA</td>\n",
       "      <td>PacI PacI RE-Mix®</td>\n",
       "      <td>TTAATTAA</td>\n",
       "    </tr>\n",
       "    <tr>\n",
       "      <th>231</th>\n",
       "      <td>TTA/TAA</td>\n",
       "      <td>PsiI</td>\n",
       "      <td>TTATAA</td>\n",
       "    </tr>\n",
       "    <tr>\n",
       "      <th>232</th>\n",
       "      <td>TT/CGAA</td>\n",
       "      <td>BstBI</td>\n",
       "      <td>TTCGAA</td>\n",
       "    </tr>\n",
       "    <tr>\n",
       "      <th>233</th>\n",
       "      <td>TTT/AAA</td>\n",
       "      <td>DraI</td>\n",
       "      <td>TTTAAA</td>\n",
       "    </tr>\n",
       "    <tr>\n",
       "      <th>234</th>\n",
       "      <td>VC/TCGAGB</td>\n",
       "      <td>PspXI</td>\n",
       "      <td>[ACG]CTCGAG[CGT]</td>\n",
       "    </tr>\n",
       "    <tr>\n",
       "      <th>235</th>\n",
       "      <td>W/CCGGW</td>\n",
       "      <td>BsaWI</td>\n",
       "      <td>[AT]CCGG[AT]</td>\n",
       "    </tr>\n",
       "    <tr>\n",
       "      <th>236</th>\n",
       "      <td>YAC/GTR</td>\n",
       "      <td>BsaAI</td>\n",
       "      <td>[CT]ACGT[AG]</td>\n",
       "    </tr>\n",
       "    <tr>\n",
       "      <th>237</th>\n",
       "      <td>Y/GGCCR</td>\n",
       "      <td>EaeI</td>\n",
       "      <td>[CT]GGCC[AG]</td>\n",
       "    </tr>\n",
       "  </tbody>\n",
       "</table>\n",
       "<p>173 rows × 3 columns</p>\n",
       "</div>"
      ],
      "text/plain": [
       "    Recognition Sequence                          Enzyme  \\\n",
       "0                AA/CGTT                            AclI   \n",
       "1                A/AGCTT             HindIII HindIII-HF®   \n",
       "2                AAT/ATT                   SspI SspI-HF®   \n",
       "3                  /AATT                   MluCI Tsp509I   \n",
       "4                A/CATGT                            PciI   \n",
       "5                A/CCGGT  AgeI AgeI-HF® AgeI-HF® RE-Mix®   \n",
       "7               A/CCWGGT                           SexAI   \n",
       "8                A/CGCGT                   MluI MluI-HF®   \n",
       "10                 A/CGT                        HpyCH4IV   \n",
       "11                ACN/GT                       HpyCH4III   \n",
       "14               A/CRYGT                          AflIII   \n",
       "15               A/CTAGT      SpeI SpeI-HF® SpeI RE-Mix®   \n",
       "18               A/GATCT                           BglII   \n",
       "19               AGC/GCT                            AfeI   \n",
       "20                 AG/CT                            AluI   \n",
       "21               AGG/CCT                            StuI   \n",
       "22               AGT/ACT  ScaI ScaI-HF® ScaI-HF® RE-Mix®   \n",
       "23               AT/CGAT                      ClaI BspDI   \n",
       "25               ATGCA/T                   NsiI NsiI-HF®   \n",
       "26               AT/TAAT                            AseI   \n",
       "27             ATTT/AAAT                            SwaI   \n",
       "29               C/AATTG  MfeI MfeI-HF® MfeI-HF® RE-Mix®   \n",
       "32               CAC/GTG                            PmlI   \n",
       "33            CACNNN/GTG               DraIII DraIII-HF®   \n",
       "34           CACNN/NNGTG                            AleI   \n",
       "36               CAG/CTG                 PvuII PvuII-HF®   \n",
       "37            CAGNNN/CTG                           AlwNI   \n",
       "39            NNCASTGNN/                           TspRI   \n",
       "40               CA/TATG                            NdeI   \n",
       "41                 CATG/                          NlaIII   \n",
       "..                   ...                             ...   \n",
       "204              R/AATTY                    ApoI ApoI-HF   \n",
       "205              RCATG/Y                            NspI   \n",
       "206              R/CCGGY                           BsrFI   \n",
       "207              R/GATCY                           BstYI   \n",
       "208              RGCGC/Y                           HaeII   \n",
       "209                RG/CY                         CviKI-1   \n",
       "210             RG/GNCCY                        EcoO109I   \n",
       "211             RG/GWCCY                           PpuMI   \n",
       "213              TAC/GTA                           SnaBI   \n",
       "215              T/CATGA                           BspHI   \n",
       "216              T/CCGGA                           BspEI   \n",
       "218                T/CGA                           TaqαI   \n",
       "219              TCG/CGA                   NruI NruI-HF®   \n",
       "220               TCN/GA                         Hpy188I   \n",
       "221              TC/NNGA                       Hpy188III   \n",
       "222              T/CTAGA               XbaI XbaI RE-Mix®   \n",
       "223              T/GATCA                            BclI   \n",
       "224                TG/CA                         HpyCH4V   \n",
       "225              TGC/GCA                            FspI   \n",
       "227              TGG/CCA                            MscI   \n",
       "228              T/GTACA                 BsrGI BsrGI-HF®   \n",
       "229                T/TAA                            MseI   \n",
       "230            TTAAT/TAA               PacI PacI RE-Mix®   \n",
       "231              TTA/TAA                            PsiI   \n",
       "232              TT/CGAA                           BstBI   \n",
       "233              TTT/AAA                            DraI   \n",
       "234            VC/TCGAGB                           PspXI   \n",
       "235              W/CCGGW                           BsaWI   \n",
       "236              YAC/GTR                           BsaAI   \n",
       "237              Y/GGCCR                            EaeI   \n",
       "\n",
       "                              Pattern  \n",
       "0                              AACGTT  \n",
       "1                              AAGCTT  \n",
       "2                              AATATT  \n",
       "3                                AATT  \n",
       "4                              ACATGT  \n",
       "5                              ACCGGT  \n",
       "7                          ACC[AT]GGT  \n",
       "8                              ACGCGT  \n",
       "10                               ACGT  \n",
       "11                         AC[ATCG]GT  \n",
       "14                       AC[AG][CT]GT  \n",
       "15                             ACTAGT  \n",
       "18                             AGATCT  \n",
       "19                             AGCGCT  \n",
       "20                               AGCT  \n",
       "21                             AGGCCT  \n",
       "22                             AGTACT  \n",
       "23                             ATCGAT  \n",
       "25                             ATGCAT  \n",
       "26                             ATTAAT  \n",
       "27                           ATTTAAAT  \n",
       "29                             CAATTG  \n",
       "32                             CACGTG  \n",
       "33           CAC[ATCG][ATCG][ATCG]GTG  \n",
       "34     CAC[ATCG][ATCG][ATCG][ATCG]GTG  \n",
       "36                             CAGCTG  \n",
       "37           CAG[ATCG][ATCG][ATCG]CTG  \n",
       "39   [ATCG][ATCG]CA[GC]TG[ATCG][ATCG]  \n",
       "40                             CATATG  \n",
       "41                               CATG  \n",
       "..                                ...  \n",
       "204                      [AG]AATT[CT]  \n",
       "205                      [AG]CATG[CT]  \n",
       "206                      [AG]CCGG[CT]  \n",
       "207                      [AG]GATC[CT]  \n",
       "208                      [AG]GCGC[CT]  \n",
       "209                        [AG]GC[CT]  \n",
       "210                [AG]GG[ATCG]CC[CT]  \n",
       "211                  [AG]GG[AT]CC[CT]  \n",
       "213                            TACGTA  \n",
       "215                            TCATGA  \n",
       "216                            TCCGGA  \n",
       "218                              TCGA  \n",
       "219                            TCGCGA  \n",
       "220                        TC[ATCG]GA  \n",
       "221                  TC[ATCG][ATCG]GA  \n",
       "222                            TCTAGA  \n",
       "223                            TGATCA  \n",
       "224                              TGCA  \n",
       "225                            TGCGCA  \n",
       "227                            TGGCCA  \n",
       "228                            TGTACA  \n",
       "229                              TTAA  \n",
       "230                          TTAATTAA  \n",
       "231                            TTATAA  \n",
       "232                            TTCGAA  \n",
       "233                            TTTAAA  \n",
       "234                  [ACG]CTCGAG[CGT]  \n",
       "235                      [AT]CCGG[AT]  \n",
       "236                      [CT]ACGT[AG]  \n",
       "237                      [CT]GGCC[AG]  \n",
       "\n",
       "[173 rows x 3 columns]"
      ]
     },
     "execution_count": 3,
     "metadata": {},
     "output_type": "execute_result"
    }
   ],
   "source": [
    "enzymes"
   ]
  },
  {
   "cell_type": "code",
   "execution_count": 5,
   "metadata": {
    "collapsed": false
   },
   "outputs": [
    {
     "data": {
      "text/html": [
       "<div>\n",
       "<table border=\"1\" class=\"dataframe\">\n",
       "  <thead>\n",
       "    <tr style=\"text-align: right;\">\n",
       "      <th></th>\n",
       "      <th>Recognition Sequence</th>\n",
       "      <th>Enzyme</th>\n",
       "      <th>Pattern</th>\n",
       "    </tr>\n",
       "  </thead>\n",
       "  <tbody>\n",
       "    <tr>\n",
       "      <th>count</th>\n",
       "      <td>173</td>\n",
       "      <td>173</td>\n",
       "      <td>173</td>\n",
       "    </tr>\n",
       "    <tr>\n",
       "      <th>unique</th>\n",
       "      <td>173</td>\n",
       "      <td>173</td>\n",
       "      <td>156</td>\n",
       "    </tr>\n",
       "    <tr>\n",
       "      <th>top</th>\n",
       "      <td>C/YCGRG</td>\n",
       "      <td>ApaI</td>\n",
       "      <td>GGCGCC</td>\n",
       "    </tr>\n",
       "    <tr>\n",
       "      <th>freq</th>\n",
       "      <td>1</td>\n",
       "      <td>1</td>\n",
       "      <td>4</td>\n",
       "    </tr>\n",
       "  </tbody>\n",
       "</table>\n",
       "</div>"
      ],
      "text/plain": [
       "       Recognition Sequence Enzyme Pattern\n",
       "count                   173    173     173\n",
       "unique                  173    173     156\n",
       "top                 C/YCGRG   ApaI  GGCGCC\n",
       "freq                      1      1       4"
      ]
     },
     "execution_count": 5,
     "metadata": {},
     "output_type": "execute_result"
    }
   ],
   "source": [
    "enzymes.describe()"
   ]
  },
  {
   "cell_type": "code",
   "execution_count": 1,
   "metadata": {
    "collapsed": true
   },
   "outputs": [],
   "source": [
    "import pandas as pd"
   ]
  },
  {
   "cell_type": "code",
   "execution_count": 2,
   "metadata": {
    "collapsed": true
   },
   "outputs": [],
   "source": [
    "aa = pd.read_pickle('./AA_table.pickle')"
   ]
  },
  {
   "cell_type": "code",
   "execution_count": 3,
   "metadata": {
    "collapsed": false
   },
   "outputs": [
    {
     "data": {
      "text/html": [
       "<div>\n",
       "<table border=\"1\" class=\"dataframe\">\n",
       "  <thead>\n",
       "    <tr style=\"text-align: right;\">\n",
       "      <th></th>\n",
       "      <th>Full name</th>\n",
       "      <th>abrr</th>\n",
       "      <th>Side chain polarity</th>\n",
       "      <th>Side chain charge(pH7.4)</th>\n",
       "      <th>Hydropathy index</th>\n",
       "      <th>MW</th>\n",
       "      <th>codon</th>\n",
       "    </tr>\n",
       "    <tr>\n",
       "      <th>Amino acid</th>\n",
       "      <th></th>\n",
       "      <th></th>\n",
       "      <th></th>\n",
       "      <th></th>\n",
       "      <th></th>\n",
       "      <th></th>\n",
       "      <th></th>\n",
       "    </tr>\n",
       "  </thead>\n",
       "  <tbody>\n",
       "    <tr>\n",
       "      <th>Ala</th>\n",
       "      <td>Alanine</td>\n",
       "      <td>A</td>\n",
       "      <td>nonpolar</td>\n",
       "      <td>neutral</td>\n",
       "      <td>1.8</td>\n",
       "      <td>89.1</td>\n",
       "      <td>GCU, GCC, GCA, GCG</td>\n",
       "    </tr>\n",
       "    <tr>\n",
       "      <th>Arg</th>\n",
       "      <td>Arginine</td>\n",
       "      <td>R</td>\n",
       "      <td>basic polar</td>\n",
       "      <td>positive</td>\n",
       "      <td>−4.5</td>\n",
       "      <td>174.2</td>\n",
       "      <td>CGU, CGC, CGA, CGG, AGA, AGG</td>\n",
       "    </tr>\n",
       "    <tr>\n",
       "      <th>Asn</th>\n",
       "      <td>Asparagine</td>\n",
       "      <td>N</td>\n",
       "      <td>polar</td>\n",
       "      <td>neutral</td>\n",
       "      <td>−3.5</td>\n",
       "      <td>132.1</td>\n",
       "      <td>AAU, AAC</td>\n",
       "    </tr>\n",
       "    <tr>\n",
       "      <th>Asp</th>\n",
       "      <td>Aspartic acid</td>\n",
       "      <td>D</td>\n",
       "      <td>acidic polar</td>\n",
       "      <td>negative</td>\n",
       "      <td>−3.5</td>\n",
       "      <td>133.1</td>\n",
       "      <td>GAU, GAC</td>\n",
       "    </tr>\n",
       "    <tr>\n",
       "      <th>Cys</th>\n",
       "      <td>Cysteine</td>\n",
       "      <td>C</td>\n",
       "      <td>nonpolar</td>\n",
       "      <td>neutral</td>\n",
       "      <td>2.5</td>\n",
       "      <td>121.2</td>\n",
       "      <td>UGU, UGC</td>\n",
       "    </tr>\n",
       "    <tr>\n",
       "      <th>Gln</th>\n",
       "      <td>Glutamine</td>\n",
       "      <td>Q</td>\n",
       "      <td>polar</td>\n",
       "      <td>neutral</td>\n",
       "      <td>−3.5</td>\n",
       "      <td>146.2</td>\n",
       "      <td>CAA, CAG</td>\n",
       "    </tr>\n",
       "    <tr>\n",
       "      <th>Glu</th>\n",
       "      <td>Glutamic acid</td>\n",
       "      <td>E</td>\n",
       "      <td>acidic polar</td>\n",
       "      <td>negative</td>\n",
       "      <td>−3.5</td>\n",
       "      <td>147.1</td>\n",
       "      <td>GAA, GAG</td>\n",
       "    </tr>\n",
       "    <tr>\n",
       "      <th>Gly</th>\n",
       "      <td>Glycine</td>\n",
       "      <td>G</td>\n",
       "      <td>nonpolar</td>\n",
       "      <td>neutral</td>\n",
       "      <td>−0.4</td>\n",
       "      <td>75.1</td>\n",
       "      <td>GGU, GGC, GGA, GGG</td>\n",
       "    </tr>\n",
       "    <tr>\n",
       "      <th>His</th>\n",
       "      <td>Histidine</td>\n",
       "      <td>H</td>\n",
       "      <td>basic polar</td>\n",
       "      <td>positive(10%) neutral(90%)</td>\n",
       "      <td>−3.2</td>\n",
       "      <td>155.2</td>\n",
       "      <td>CAU, CAC</td>\n",
       "    </tr>\n",
       "    <tr>\n",
       "      <th>Ile</th>\n",
       "      <td>Isoleucine</td>\n",
       "      <td>I</td>\n",
       "      <td>nonpolar</td>\n",
       "      <td>neutral</td>\n",
       "      <td>4.5</td>\n",
       "      <td>131.2</td>\n",
       "      <td>AUU, AUC, AUA</td>\n",
       "    </tr>\n",
       "    <tr>\n",
       "      <th>Leu</th>\n",
       "      <td>Leucine</td>\n",
       "      <td>L</td>\n",
       "      <td>nonpolar</td>\n",
       "      <td>neutral</td>\n",
       "      <td>3.8</td>\n",
       "      <td>131.2</td>\n",
       "      <td>UUA, UUG, CUU, CUC, CUA, CUG</td>\n",
       "    </tr>\n",
       "    <tr>\n",
       "      <th>Lys</th>\n",
       "      <td>Lysine</td>\n",
       "      <td>K</td>\n",
       "      <td>basic polar</td>\n",
       "      <td>positive</td>\n",
       "      <td>−3.9</td>\n",
       "      <td>146.2</td>\n",
       "      <td>AAA, AAG</td>\n",
       "    </tr>\n",
       "    <tr>\n",
       "      <th>Met</th>\n",
       "      <td>Methionine</td>\n",
       "      <td>M</td>\n",
       "      <td>nonpolar</td>\n",
       "      <td>neutral</td>\n",
       "      <td>1.9</td>\n",
       "      <td>149.2</td>\n",
       "      <td>AUG</td>\n",
       "    </tr>\n",
       "    <tr>\n",
       "      <th>Phe</th>\n",
       "      <td>Phenylalanine</td>\n",
       "      <td>F</td>\n",
       "      <td>nonpolar</td>\n",
       "      <td>neutral</td>\n",
       "      <td>2.8</td>\n",
       "      <td>165.2</td>\n",
       "      <td>UUU, UUC</td>\n",
       "    </tr>\n",
       "    <tr>\n",
       "      <th>Pro</th>\n",
       "      <td>Proline</td>\n",
       "      <td>P</td>\n",
       "      <td>nonpolar</td>\n",
       "      <td>neutral</td>\n",
       "      <td>−1.6</td>\n",
       "      <td>115.1</td>\n",
       "      <td>CCU, CCC, CCA, CCG</td>\n",
       "    </tr>\n",
       "    <tr>\n",
       "      <th>Ser</th>\n",
       "      <td>Serine</td>\n",
       "      <td>S</td>\n",
       "      <td>polar</td>\n",
       "      <td>neutral</td>\n",
       "      <td>−0.8</td>\n",
       "      <td>105.1</td>\n",
       "      <td>UCU, UCC, UCA, UCG, AGU,AGC</td>\n",
       "    </tr>\n",
       "    <tr>\n",
       "      <th>Thr</th>\n",
       "      <td>Threonine</td>\n",
       "      <td>T</td>\n",
       "      <td>polar</td>\n",
       "      <td>neutral</td>\n",
       "      <td>−0.7</td>\n",
       "      <td>119.1</td>\n",
       "      <td>ACU, ACC, ACA, ACG</td>\n",
       "    </tr>\n",
       "    <tr>\n",
       "      <th>Trp</th>\n",
       "      <td>Tryptophan</td>\n",
       "      <td>W</td>\n",
       "      <td>nonpolar</td>\n",
       "      <td>neutral</td>\n",
       "      <td>−0.9</td>\n",
       "      <td>204.2</td>\n",
       "      <td>UGG</td>\n",
       "    </tr>\n",
       "    <tr>\n",
       "      <th>Tyr</th>\n",
       "      <td>Tyrosine</td>\n",
       "      <td>Y</td>\n",
       "      <td>polar</td>\n",
       "      <td>neutral</td>\n",
       "      <td>−1.3</td>\n",
       "      <td>181.2</td>\n",
       "      <td>UAU, UAC</td>\n",
       "    </tr>\n",
       "    <tr>\n",
       "      <th>Val</th>\n",
       "      <td>Valine</td>\n",
       "      <td>V</td>\n",
       "      <td>nonpolar</td>\n",
       "      <td>neutral</td>\n",
       "      <td>4.2</td>\n",
       "      <td>117.1</td>\n",
       "      <td>GUU, GUC, GUA, GUG</td>\n",
       "    </tr>\n",
       "  </tbody>\n",
       "</table>\n",
       "</div>"
      ],
      "text/plain": [
       "                Full name abrr Side chain polarity  \\\n",
       "Amino acid                                           \n",
       "Ala               Alanine    A            nonpolar   \n",
       "Arg              Arginine    R         basic polar   \n",
       "Asn            Asparagine    N               polar   \n",
       "Asp         Aspartic acid    D        acidic polar   \n",
       "Cys              Cysteine    C            nonpolar   \n",
       "Gln             Glutamine    Q               polar   \n",
       "Glu         Glutamic acid    E        acidic polar   \n",
       "Gly               Glycine    G            nonpolar   \n",
       "His             Histidine    H         basic polar   \n",
       "Ile            Isoleucine    I            nonpolar   \n",
       "Leu               Leucine    L            nonpolar   \n",
       "Lys                Lysine    K         basic polar   \n",
       "Met            Methionine    M            nonpolar   \n",
       "Phe         Phenylalanine    F            nonpolar   \n",
       "Pro               Proline    P            nonpolar   \n",
       "Ser                Serine    S               polar   \n",
       "Thr             Threonine    T               polar   \n",
       "Trp            Tryptophan    W            nonpolar   \n",
       "Tyr              Tyrosine    Y               polar   \n",
       "Val                Valine    V            nonpolar   \n",
       "\n",
       "              Side chain charge(pH7.4) Hydropathy index     MW  \\\n",
       "Amino acid                                                       \n",
       "Ala                            neutral              1.8   89.1   \n",
       "Arg                           positive             −4.5  174.2   \n",
       "Asn                            neutral             −3.5  132.1   \n",
       "Asp                           negative             −3.5  133.1   \n",
       "Cys                            neutral              2.5  121.2   \n",
       "Gln                            neutral             −3.5  146.2   \n",
       "Glu                           negative             −3.5  147.1   \n",
       "Gly                            neutral             −0.4   75.1   \n",
       "His         positive(10%) neutral(90%)             −3.2  155.2   \n",
       "Ile                            neutral              4.5  131.2   \n",
       "Leu                            neutral              3.8  131.2   \n",
       "Lys                           positive             −3.9  146.2   \n",
       "Met                            neutral              1.9  149.2   \n",
       "Phe                            neutral              2.8  165.2   \n",
       "Pro                            neutral             −1.6  115.1   \n",
       "Ser                            neutral             −0.8  105.1   \n",
       "Thr                            neutral             −0.7  119.1   \n",
       "Trp                            neutral             −0.9  204.2   \n",
       "Tyr                            neutral             −1.3  181.2   \n",
       "Val                            neutral              4.2  117.1   \n",
       "\n",
       "                                   codon  \n",
       "Amino acid                                \n",
       "Ala                   GCU, GCC, GCA, GCG  \n",
       "Arg         CGU, CGC, CGA, CGG, AGA, AGG  \n",
       "Asn                             AAU, AAC  \n",
       "Asp                             GAU, GAC  \n",
       "Cys                             UGU, UGC  \n",
       "Gln                             CAA, CAG  \n",
       "Glu                             GAA, GAG  \n",
       "Gly                   GGU, GGC, GGA, GGG  \n",
       "His                             CAU, CAC  \n",
       "Ile                        AUU, AUC, AUA  \n",
       "Leu         UUA, UUG, CUU, CUC, CUA, CUG  \n",
       "Lys                             AAA, AAG  \n",
       "Met                                  AUG  \n",
       "Phe                             UUU, UUC  \n",
       "Pro                   CCU, CCC, CCA, CCG  \n",
       "Ser          UCU, UCC, UCA, UCG, AGU,AGC  \n",
       "Thr                   ACU, ACC, ACA, ACG  \n",
       "Trp                                  UGG  \n",
       "Tyr                             UAU, UAC  \n",
       "Val                   GUU, GUC, GUA, GUG  "
      ]
     },
     "execution_count": 3,
     "metadata": {},
     "output_type": "execute_result"
    }
   ],
   "source": [
    "aa"
   ]
  },
  {
   "cell_type": "code",
   "execution_count": 7,
   "metadata": {
    "collapsed": false
   },
   "outputs": [
    {
     "data": {
      "text/html": [
       "<div>\n",
       "<table border=\"1\" class=\"dataframe\">\n",
       "  <thead>\n",
       "    <tr style=\"text-align: right;\">\n",
       "      <th></th>\n",
       "      <th>abrr</th>\n",
       "      <th>MW</th>\n",
       "    </tr>\n",
       "    <tr>\n",
       "      <th>Amino acid</th>\n",
       "      <th></th>\n",
       "      <th></th>\n",
       "    </tr>\n",
       "  </thead>\n",
       "  <tbody>\n",
       "    <tr>\n",
       "      <th>Ala</th>\n",
       "      <td>A</td>\n",
       "      <td>89.1</td>\n",
       "    </tr>\n",
       "    <tr>\n",
       "      <th>Arg</th>\n",
       "      <td>R</td>\n",
       "      <td>174.2</td>\n",
       "    </tr>\n",
       "    <tr>\n",
       "      <th>Asn</th>\n",
       "      <td>N</td>\n",
       "      <td>132.1</td>\n",
       "    </tr>\n",
       "    <tr>\n",
       "      <th>Asp</th>\n",
       "      <td>D</td>\n",
       "      <td>133.1</td>\n",
       "    </tr>\n",
       "    <tr>\n",
       "      <th>Cys</th>\n",
       "      <td>C</td>\n",
       "      <td>121.2</td>\n",
       "    </tr>\n",
       "    <tr>\n",
       "      <th>Gln</th>\n",
       "      <td>Q</td>\n",
       "      <td>146.2</td>\n",
       "    </tr>\n",
       "    <tr>\n",
       "      <th>Glu</th>\n",
       "      <td>E</td>\n",
       "      <td>147.1</td>\n",
       "    </tr>\n",
       "    <tr>\n",
       "      <th>Gly</th>\n",
       "      <td>G</td>\n",
       "      <td>75.1</td>\n",
       "    </tr>\n",
       "    <tr>\n",
       "      <th>His</th>\n",
       "      <td>H</td>\n",
       "      <td>155.2</td>\n",
       "    </tr>\n",
       "    <tr>\n",
       "      <th>Ile</th>\n",
       "      <td>I</td>\n",
       "      <td>131.2</td>\n",
       "    </tr>\n",
       "    <tr>\n",
       "      <th>Leu</th>\n",
       "      <td>L</td>\n",
       "      <td>131.2</td>\n",
       "    </tr>\n",
       "    <tr>\n",
       "      <th>Lys</th>\n",
       "      <td>K</td>\n",
       "      <td>146.2</td>\n",
       "    </tr>\n",
       "    <tr>\n",
       "      <th>Met</th>\n",
       "      <td>M</td>\n",
       "      <td>149.2</td>\n",
       "    </tr>\n",
       "    <tr>\n",
       "      <th>Phe</th>\n",
       "      <td>F</td>\n",
       "      <td>165.2</td>\n",
       "    </tr>\n",
       "    <tr>\n",
       "      <th>Pro</th>\n",
       "      <td>P</td>\n",
       "      <td>115.1</td>\n",
       "    </tr>\n",
       "    <tr>\n",
       "      <th>Ser</th>\n",
       "      <td>S</td>\n",
       "      <td>105.1</td>\n",
       "    </tr>\n",
       "    <tr>\n",
       "      <th>Thr</th>\n",
       "      <td>T</td>\n",
       "      <td>119.1</td>\n",
       "    </tr>\n",
       "    <tr>\n",
       "      <th>Trp</th>\n",
       "      <td>W</td>\n",
       "      <td>204.2</td>\n",
       "    </tr>\n",
       "    <tr>\n",
       "      <th>Tyr</th>\n",
       "      <td>Y</td>\n",
       "      <td>181.2</td>\n",
       "    </tr>\n",
       "    <tr>\n",
       "      <th>Val</th>\n",
       "      <td>V</td>\n",
       "      <td>117.1</td>\n",
       "    </tr>\n",
       "  </tbody>\n",
       "</table>\n",
       "</div>"
      ],
      "text/plain": [
       "           abrr     MW\n",
       "Amino acid            \n",
       "Ala           A   89.1\n",
       "Arg           R  174.2\n",
       "Asn           N  132.1\n",
       "Asp           D  133.1\n",
       "Cys           C  121.2\n",
       "Gln           Q  146.2\n",
       "Glu           E  147.1\n",
       "Gly           G   75.1\n",
       "His           H  155.2\n",
       "Ile           I  131.2\n",
       "Leu           L  131.2\n",
       "Lys           K  146.2\n",
       "Met           M  149.2\n",
       "Phe           F  165.2\n",
       "Pro           P  115.1\n",
       "Ser           S  105.1\n",
       "Thr           T  119.1\n",
       "Trp           W  204.2\n",
       "Tyr           Y  181.2\n",
       "Val           V  117.1"
      ]
     },
     "execution_count": 7,
     "metadata": {},
     "output_type": "execute_result"
    }
   ],
   "source": [
    "aa[['abrr', 'MW']]"
   ]
  },
  {
   "cell_type": "code",
   "execution_count": null,
   "metadata": {
    "collapsed": true
   },
   "outputs": [],
   "source": []
  }
 ],
 "metadata": {
  "anaconda-cloud": {},
  "kernelspec": {
   "display_name": "Python [default]",
   "language": "python",
   "name": "python3"
  },
  "language_info": {
   "codemirror_mode": {
    "name": "ipython",
    "version": 3
   },
   "file_extension": ".py",
   "mimetype": "text/x-python",
   "name": "python",
   "nbconvert_exporter": "python",
   "pygments_lexer": "ipython3",
   "version": "3.5.2"
  }
 },
 "nbformat": 4,
 "nbformat_minor": 0
}
